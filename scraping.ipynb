{
 "cells": [
  {
   "cell_type": "code",
   "execution_count": 1,
   "metadata": {},
   "outputs": [],
   "source": [
    "import requests\n",
    "from bs4 import BeautifulSoup"
   ]
  },
  {
   "cell_type": "code",
   "execution_count": 2,
   "metadata": {},
   "outputs": [],
   "source": [
    "url = \"https://elivros.love/categoria/aventura\"\n",
    "resp = requests.get(url)\n",
    "soup = BeautifulSoup(resp.text, 'html.parser')"
   ]
  },
  {
   "cell_type": "code",
   "execution_count": 3,
   "metadata": {},
   "outputs": [
    {
     "name": "stdout",
     "output_type": "stream",
     "text": [
      "O Caldeirão Negro\n",
      "//elivros.love/livro/baixar-o-caldeirao-negro-as-aventuras-de-prydain-vol-2-lloyd-alexander-epub-pdf-mobi-ou-ler-online\n"
     ]
    }
   ],
   "source": [
    "class_products = \"books\"\n",
    "\n",
    "for li in soup.findAll(class_=class_products):\n",
    "    titulo = li.find(class_=\"bInfo\").find(\"a\").text\n",
    "    link = li.find(class_=\"bInfo\").find(\"a\")[\"href\"]\n",
    "    print(titulo)\n",
    "    print(link)"
   ]
  }
 ],
 "metadata": {
  "kernelspec": {
   "display_name": "Python 3",
   "language": "python",
   "name": "python3"
  },
  "language_info": {
   "codemirror_mode": {
    "name": "ipython",
    "version": 3
   },
   "file_extension": ".py",
   "mimetype": "text/x-python",
   "name": "python",
   "nbconvert_exporter": "python",
   "pygments_lexer": "ipython3",
   "version": "3.10.13"
  }
 },
 "nbformat": 4,
 "nbformat_minor": 2
}
